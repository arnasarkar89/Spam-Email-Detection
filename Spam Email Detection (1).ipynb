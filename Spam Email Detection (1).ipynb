{
 "cells": [
  {
   "cell_type": "code",
   "execution_count": 1,
   "id": "48e33062-eb6f-4577-9308-331078678a13",
   "metadata": {},
   "outputs": [],
   "source": [
    "import numpy as np\n",
    "import pandas as pd\n",
    "from sklearn.model_selection import train_test_split\n",
    "from sklearn.feature_extraction.text import TfidfVectorizer\n",
    "from sklearn.linear_model import LogisticRegression\n",
    "from sklearn.metrics import accuracy_score"
   ]
  },
  {
   "cell_type": "code",
   "execution_count": 2,
   "id": "8549020e-94ef-47d1-a8c6-e024dcff033f",
   "metadata": {},
   "outputs": [],
   "source": [
    "df=pd.read_csv('desktop/Spam Email Detection.csv')"
   ]
  },
  {
   "cell_type": "markdown",
   "id": "a65f4b15-a623-4da2-aaa9-91508ecd049c",
   "metadata": {},
   "source": [
    "# DATA PREPROCESSING\n"
   ]
  },
  {
   "cell_type": "code",
   "execution_count": 4,
   "id": "81639209-7090-4e2d-82cf-419f7ec9ccd7",
   "metadata": {},
   "outputs": [
    {
     "data": {
      "text/html": [
       "<div>\n",
       "<style scoped>\n",
       "    .dataframe tbody tr th:only-of-type {\n",
       "        vertical-align: middle;\n",
       "    }\n",
       "\n",
       "    .dataframe tbody tr th {\n",
       "        vertical-align: top;\n",
       "    }\n",
       "\n",
       "    .dataframe thead th {\n",
       "        text-align: right;\n",
       "    }\n",
       "</style>\n",
       "<table border=\"1\" class=\"dataframe\">\n",
       "  <thead>\n",
       "    <tr style=\"text-align: right;\">\n",
       "      <th></th>\n",
       "      <th>v1</th>\n",
       "      <th>v2</th>\n",
       "      <th>Unnamed: 2</th>\n",
       "      <th>Unnamed: 3</th>\n",
       "      <th>Unnamed: 4</th>\n",
       "    </tr>\n",
       "  </thead>\n",
       "  <tbody>\n",
       "    <tr>\n",
       "      <th>0</th>\n",
       "      <td>ham</td>\n",
       "      <td>Go until jurong point, crazy.. Available only ...</td>\n",
       "      <td>NaN</td>\n",
       "      <td>NaN</td>\n",
       "      <td>NaN</td>\n",
       "    </tr>\n",
       "    <tr>\n",
       "      <th>1</th>\n",
       "      <td>ham</td>\n",
       "      <td>Ok lar... Joking wif u oni...</td>\n",
       "      <td>NaN</td>\n",
       "      <td>NaN</td>\n",
       "      <td>NaN</td>\n",
       "    </tr>\n",
       "    <tr>\n",
       "      <th>2</th>\n",
       "      <td>spam</td>\n",
       "      <td>Free entry in 2 a wkly comp to win FA Cup fina...</td>\n",
       "      <td>NaN</td>\n",
       "      <td>NaN</td>\n",
       "      <td>NaN</td>\n",
       "    </tr>\n",
       "    <tr>\n",
       "      <th>3</th>\n",
       "      <td>ham</td>\n",
       "      <td>U dun say so early hor... U c already then say...</td>\n",
       "      <td>NaN</td>\n",
       "      <td>NaN</td>\n",
       "      <td>NaN</td>\n",
       "    </tr>\n",
       "    <tr>\n",
       "      <th>4</th>\n",
       "      <td>ham</td>\n",
       "      <td>Nah I don't think he goes to usf, he lives aro...</td>\n",
       "      <td>NaN</td>\n",
       "      <td>NaN</td>\n",
       "      <td>NaN</td>\n",
       "    </tr>\n",
       "  </tbody>\n",
       "</table>\n",
       "</div>"
      ],
      "text/plain": [
       "     v1                                                 v2 Unnamed: 2  \\\n",
       "0   ham  Go until jurong point, crazy.. Available only ...        NaN   \n",
       "1   ham                      Ok lar... Joking wif u oni...        NaN   \n",
       "2  spam  Free entry in 2 a wkly comp to win FA Cup fina...        NaN   \n",
       "3   ham  U dun say so early hor... U c already then say...        NaN   \n",
       "4   ham  Nah I don't think he goes to usf, he lives aro...        NaN   \n",
       "\n",
       "  Unnamed: 3 Unnamed: 4  \n",
       "0        NaN        NaN  \n",
       "1        NaN        NaN  \n",
       "2        NaN        NaN  \n",
       "3        NaN        NaN  \n",
       "4        NaN        NaN  "
      ]
     },
     "execution_count": 4,
     "metadata": {},
     "output_type": "execute_result"
    }
   ],
   "source": [
    "df.head()"
   ]
  },
  {
   "cell_type": "code",
   "execution_count": 5,
   "id": "7e0b8ccd-5a91-41af-acbb-33e3470e8863",
   "metadata": {},
   "outputs": [],
   "source": [
    "# Here we have some extra unwanted columns called Unnamed, so we have to eliminate those columns first."
   ]
  },
  {
   "cell_type": "code",
   "execution_count": 6,
   "id": "781a88d4-b5c4-4f7d-9d86-2362ce85cecc",
   "metadata": {},
   "outputs": [],
   "source": [
    "# Drop columns with \"Unnamed\" in their names\n",
    "df = df.loc[:, ~df.columns.str.contains('^Unnamed')]\n"
   ]
  },
  {
   "cell_type": "code",
   "execution_count": 7,
   "id": "787489ab-ca79-4dc1-84d5-26dcd6aa0a40",
   "metadata": {},
   "outputs": [
    {
     "data": {
      "text/html": [
       "<div>\n",
       "<style scoped>\n",
       "    .dataframe tbody tr th:only-of-type {\n",
       "        vertical-align: middle;\n",
       "    }\n",
       "\n",
       "    .dataframe tbody tr th {\n",
       "        vertical-align: top;\n",
       "    }\n",
       "\n",
       "    .dataframe thead th {\n",
       "        text-align: right;\n",
       "    }\n",
       "</style>\n",
       "<table border=\"1\" class=\"dataframe\">\n",
       "  <thead>\n",
       "    <tr style=\"text-align: right;\">\n",
       "      <th></th>\n",
       "      <th>v1</th>\n",
       "      <th>v2</th>\n",
       "    </tr>\n",
       "  </thead>\n",
       "  <tbody>\n",
       "    <tr>\n",
       "      <th>0</th>\n",
       "      <td>ham</td>\n",
       "      <td>Go until jurong point, crazy.. Available only ...</td>\n",
       "    </tr>\n",
       "    <tr>\n",
       "      <th>1</th>\n",
       "      <td>ham</td>\n",
       "      <td>Ok lar... Joking wif u oni...</td>\n",
       "    </tr>\n",
       "    <tr>\n",
       "      <th>2</th>\n",
       "      <td>spam</td>\n",
       "      <td>Free entry in 2 a wkly comp to win FA Cup fina...</td>\n",
       "    </tr>\n",
       "    <tr>\n",
       "      <th>3</th>\n",
       "      <td>ham</td>\n",
       "      <td>U dun say so early hor... U c already then say...</td>\n",
       "    </tr>\n",
       "    <tr>\n",
       "      <th>4</th>\n",
       "      <td>ham</td>\n",
       "      <td>Nah I don't think he goes to usf, he lives aro...</td>\n",
       "    </tr>\n",
       "  </tbody>\n",
       "</table>\n",
       "</div>"
      ],
      "text/plain": [
       "     v1                                                 v2\n",
       "0   ham  Go until jurong point, crazy.. Available only ...\n",
       "1   ham                      Ok lar... Joking wif u oni...\n",
       "2  spam  Free entry in 2 a wkly comp to win FA Cup fina...\n",
       "3   ham  U dun say so early hor... U c already then say...\n",
       "4   ham  Nah I don't think he goes to usf, he lives aro..."
      ]
     },
     "execution_count": 7,
     "metadata": {},
     "output_type": "execute_result"
    }
   ],
   "source": [
    "df.head()"
   ]
  },
  {
   "cell_type": "code",
   "execution_count": 8,
   "id": "5f602699-1b8a-4dc1-aeaf-55dd3ff28c58",
   "metadata": {},
   "outputs": [
    {
     "name": "stdout",
     "output_type": "stream",
     "text": [
      "Rows = 5572\n",
      "Columns = 2\n"
     ]
    }
   ],
   "source": [
    "# dataset shape\n",
    "print(f'Rows = {df.shape[0]}')\n",
    "print(f'Columns = {df.shape[1]}')"
   ]
  },
  {
   "cell_type": "code",
   "execution_count": 9,
   "id": "cb50957e-edf1-4737-9450-17843a689c39",
   "metadata": {},
   "outputs": [],
   "source": [
    "# Now all the unwanted columns are eliminated. There are 5572 rows and 2 columns in the dataset."
   ]
  },
  {
   "cell_type": "code",
   "execution_count": 10,
   "id": "f515f3a3-a4d2-4ebd-91af-fa65f8c8da17",
   "metadata": {},
   "outputs": [
    {
     "name": "stdout",
     "output_type": "stream",
     "text": [
      "<class 'pandas.core.frame.DataFrame'>\n",
      "RangeIndex: 5572 entries, 0 to 5571\n",
      "Data columns (total 2 columns):\n",
      " #   Column  Non-Null Count  Dtype \n",
      "---  ------  --------------  ----- \n",
      " 0   v1      5572 non-null   object\n",
      " 1   v2      5572 non-null   object\n",
      "dtypes: object(2)\n",
      "memory usage: 87.2+ KB\n"
     ]
    }
   ],
   "source": [
    "df.info()"
   ]
  },
  {
   "cell_type": "code",
   "execution_count": 11,
   "id": "5eda009d-e37e-4f33-8f73-678b57dada32",
   "metadata": {},
   "outputs": [
    {
     "name": "stdout",
     "output_type": "stream",
     "text": [
      "Columns:\n",
      "\n",
      "v1\n",
      "v2\n"
     ]
    }
   ],
   "source": [
    "# Display the column names\n",
    "print('Columns:\\n')\n",
    "for i in df.columns:\n",
    "    print(i)"
   ]
  },
  {
   "cell_type": "code",
   "execution_count": 12,
   "id": "ca36ee7c-23e8-4e24-8b25-1177ee089146",
   "metadata": {},
   "outputs": [],
   "source": [
    "#Renaming the columns for the ease of analysis"
   ]
  },
  {
   "cell_type": "code",
   "execution_count": 13,
   "id": "b3a215f0-704f-4dad-8bab-6924701ade34",
   "metadata": {},
   "outputs": [
    {
     "name": "stdout",
     "output_type": "stream",
     "text": [
      "Renamed Columns:\n",
      "\n",
      "Email_type\n",
      "Message\n"
     ]
    }
   ],
   "source": [
    "#Renaming the columns\n",
    "df.rename(columns={'v1': 'Email_type', \n",
    "                  'v2': 'Message'}, inplace=True)\n",
    "\n",
    "#Display the new column names\n",
    "print('Renamed Columns:\\n')\n",
    "for i in df.columns:\n",
    "    print(i)\n",
    "\n"
   ]
  },
  {
   "cell_type": "code",
   "execution_count": 14,
   "id": "eed3dd20-effe-4c6d-af16-c56cd062c123",
   "metadata": {},
   "outputs": [
    {
     "data": {
      "text/html": [
       "<div>\n",
       "<style scoped>\n",
       "    .dataframe tbody tr th:only-of-type {\n",
       "        vertical-align: middle;\n",
       "    }\n",
       "\n",
       "    .dataframe tbody tr th {\n",
       "        vertical-align: top;\n",
       "    }\n",
       "\n",
       "    .dataframe thead th {\n",
       "        text-align: right;\n",
       "    }\n",
       "</style>\n",
       "<table border=\"1\" class=\"dataframe\">\n",
       "  <thead>\n",
       "    <tr style=\"text-align: right;\">\n",
       "      <th></th>\n",
       "      <th>Email_type</th>\n",
       "      <th>Message</th>\n",
       "    </tr>\n",
       "  </thead>\n",
       "  <tbody>\n",
       "    <tr>\n",
       "      <th>0</th>\n",
       "      <td>ham</td>\n",
       "      <td>Go until jurong point, crazy.. Available only ...</td>\n",
       "    </tr>\n",
       "    <tr>\n",
       "      <th>1</th>\n",
       "      <td>ham</td>\n",
       "      <td>Ok lar... Joking wif u oni...</td>\n",
       "    </tr>\n",
       "    <tr>\n",
       "      <th>2</th>\n",
       "      <td>spam</td>\n",
       "      <td>Free entry in 2 a wkly comp to win FA Cup fina...</td>\n",
       "    </tr>\n",
       "    <tr>\n",
       "      <th>3</th>\n",
       "      <td>ham</td>\n",
       "      <td>U dun say so early hor... U c already then say...</td>\n",
       "    </tr>\n",
       "    <tr>\n",
       "      <th>4</th>\n",
       "      <td>ham</td>\n",
       "      <td>Nah I don't think he goes to usf, he lives aro...</td>\n",
       "    </tr>\n",
       "  </tbody>\n",
       "</table>\n",
       "</div>"
      ],
      "text/plain": [
       "  Email_type                                            Message\n",
       "0        ham  Go until jurong point, crazy.. Available only ...\n",
       "1        ham                      Ok lar... Joking wif u oni...\n",
       "2       spam  Free entry in 2 a wkly comp to win FA Cup fina...\n",
       "3        ham  U dun say so early hor... U c already then say...\n",
       "4        ham  Nah I don't think he goes to usf, he lives aro..."
      ]
     },
     "execution_count": 14,
     "metadata": {},
     "output_type": "execute_result"
    }
   ],
   "source": [
    "df.head()"
   ]
  },
  {
   "cell_type": "raw",
   "id": "5a28f859-c5c0-47b7-9e26-254a3b55b3cc",
   "metadata": {},
   "source": [
    "Checking null values"
   ]
  },
  {
   "cell_type": "code",
   "execution_count": 15,
   "id": "cc265609-e316-4ae8-9943-0cf5cb3a12b4",
   "metadata": {},
   "outputs": [
    {
     "data": {
      "text/plain": [
       "Email_type    0\n",
       "Message       0\n",
       "dtype: int64"
      ]
     },
     "execution_count": 15,
     "metadata": {},
     "output_type": "execute_result"
    }
   ],
   "source": [
    "df.isnull().sum()"
   ]
  },
  {
   "cell_type": "code",
   "execution_count": 16,
   "id": "c6c60bc2-5ceb-41d4-8412-241991e24936",
   "metadata": {},
   "outputs": [],
   "source": [
    "# Here we can see that our dataset does not contain any null values so we are ready to move further."
   ]
  },
  {
   "cell_type": "code",
   "execution_count": 17,
   "id": "40f97bf7-4b4c-4a58-b243-a9de127bb631",
   "metadata": {},
   "outputs": [
    {
     "name": "stdout",
     "output_type": "stream",
     "text": [
      "Duplicate Rows: 409\n"
     ]
    }
   ],
   "source": [
    "# Display duplicate rows\n",
    "print(f'Duplicate Rows: {df.duplicated().sum()}')"
   ]
  },
  {
   "cell_type": "code",
   "execution_count": 18,
   "id": "af996e99-17cc-4cf8-9d73-6323fa92683d",
   "metadata": {},
   "outputs": [],
   "source": [
    "# The dataset contains many  duplicate rows, so we need to remove them first"
   ]
  },
  {
   "cell_type": "code",
   "execution_count": 19,
   "id": "dba7a6c7-23c2-4e95-af24-16d1e89e2a79",
   "metadata": {},
   "outputs": [
    {
     "name": "stdout",
     "output_type": "stream",
     "text": [
      "\n",
      "Shape of the dataset after removing duplicates:\n",
      "(5163, 2)\n"
     ]
    }
   ],
   "source": [
    "# Remove duplicate rows\n",
    "df= df.drop_duplicates()\n",
    "\n",
    "# Display DataFrame after removing duplicates\n",
    "print(\"\\nShape of the dataset after removing duplicates:\")\n",
    "print(df.shape)"
   ]
  },
  {
   "cell_type": "markdown",
   "id": "c3f3184f-70b7-4ac9-80d0-0bbe407654f9",
   "metadata": {},
   "source": [
    "# EXPLORATORY DATA ANALYSIS"
   ]
  },
  {
   "cell_type": "code",
   "execution_count": 21,
   "id": "ff889531-9bca-49f3-a7c5-9a7be3d7a8f9",
   "metadata": {},
   "outputs": [
    {
     "data": {
      "text/plain": [
       "Email_type\n",
       "ham     4516\n",
       "spam     647\n",
       "Name: count, dtype: int64"
      ]
     },
     "execution_count": 21,
     "metadata": {},
     "output_type": "execute_result"
    }
   ],
   "source": [
    "df['Email_type'].value_counts()"
   ]
  },
  {
   "cell_type": "code",
   "execution_count": 22,
   "id": "e2081dd1-0600-450b-9b55-498583947824",
   "metadata": {},
   "outputs": [],
   "source": [
    "# We have 4516 ham records and 647 spam records in our dataset"
   ]
  },
  {
   "cell_type": "code",
   "execution_count": 23,
   "id": "7357a4af-4342-40cc-bab7-6a88c8237876",
   "metadata": {},
   "outputs": [],
   "source": [
    "# Converting the object type data in Email_type into categorical data"
   ]
  },
  {
   "cell_type": "code",
   "execution_count": 24,
   "id": "bb3877ef-66c8-4937-bc01-afad26e84634",
   "metadata": {},
   "outputs": [],
   "source": [
    "df.loc[df['Email_type'] == 'spam','Email_type'] = 0\n",
    "df.loc[df['Email_type'] == 'ham','Email_type'] = 1"
   ]
  },
  {
   "cell_type": "code",
   "execution_count": 25,
   "id": "84e67770-fc63-4028-9176-94e8f9a9ab4a",
   "metadata": {},
   "outputs": [
    {
     "data": {
      "text/plain": [
       "Email_type\n",
       "1    4516\n",
       "0     647\n",
       "Name: count, dtype: int64"
      ]
     },
     "execution_count": 25,
     "metadata": {},
     "output_type": "execute_result"
    }
   ],
   "source": [
    "df['Email_type'].value_counts()"
   ]
  },
  {
   "cell_type": "code",
   "execution_count": 26,
   "id": "89d8cf1a-5f17-434f-ba0d-d79b36861d2a",
   "metadata": {},
   "outputs": [
    {
     "data": {
      "image/png": "[encoded data removed]",
      "text/plain": [
       "<Figure size 600x400 with 1 Axes>"
      ]
     },
     "metadata": {},
     "output_type": "display_data"
    }
   ],
   "source": [
    "import matplotlib.pyplot as plt\n",
    "\n",
    "# Value counts for Email_type\n",
    "value_counts = df['Email_type'].value_counts()\n",
    "\n",
    "# Create the figure and axis\n",
    "fig, ax = plt.subplots(1, 1, figsize=(6, 4))  # 1 row, 1 column of subplots\n",
    "\n",
    "# Donut Chart\n",
    "ax.pie(value_counts, \n",
    "       labels=['ham','spam'],\n",
    "       autopct='%1.1f%%', \n",
    "       startangle=90, \n",
    "       colors=[\"#6782a8\", \"#ab90a0\"], \n",
    "       wedgeprops=dict(width=0.3))\n",
    "\n",
    "# Set title\n",
    "ax.set_title('Spam vs Not Spam Distribution')\n",
    "\n",
    "# Show the plot\n",
    "plt.show()\n"
   ]
  },
  {
   "cell_type": "code",
   "execution_count": null,
   "id": "f840f04c-9b81-4708-a18e-167c9043c23f",
   "metadata": {},
   "outputs": [],
   "source": [
    "# We can see that maximum number of mails are ham mails,only few are spam mails "
   ]
  },
  {
   "cell_type": "markdown",
   "id": "298f2483-5eda-4eb2-a0c3-67db4f4b1e4f",
   "metadata": {},
   "source": [
    "#CLASS IMBALANCE TREATMENT"
   ]
  },
  {
   "cell_type": "code",
   "execution_count": 28,
   "id": "132fc258-25c3-4292-bbb3-fa7d343e609f",
   "metadata": {},
   "outputs": [
    {
     "name": "stdout",
     "output_type": "stream",
     "text": [
      "class 0: (4516, 2)\n",
      "class 1: (647, 2)\n"
     ]
    }
   ],
   "source": [
    "# class count\n",
    "class_count_0, class_count_1 = df['Email_type'].value_counts()\n",
    "\n",
    "# Separate class\n",
    "class_0 = df[df['Email_type'] == 1]\n",
    "class_1 = df[df['Email_type'] == 0]\n",
    "print('class 0:', class_0.shape)\n",
    "print('class 1:', class_1.shape)"
   ]
  },
  {
   "cell_type": "code",
   "execution_count": 29,
   "id": "01c89e75-e16c-4937-aefe-690616439085",
   "metadata": {},
   "outputs": [],
   "source": [
    "# Here we can say the class is highly imbalanced.So to eliminate the biaseness, we have to perform class imbalance treatment."
   ]
  },
  {
   "cell_type": "code",
   "execution_count": 30,
   "id": "d8aacea1-100c-4128-ae7a-b89df8689f10",
   "metadata": {},
   "outputs": [],
   "source": [
    "#Class imbalance treatment using undersampling method."
   ]
  },
  {
   "cell_type": "code",
   "execution_count": 31,
   "id": "9b372229-a921-4bf7-9ad9-9b86a1898f48",
   "metadata": {},
   "outputs": [
    {
     "name": "stdout",
     "output_type": "stream",
     "text": [
      "Total class of 1 and 0:\n",
      " Email_type\n",
      "0    100\n",
      "1    100\n",
      "Name: count, dtype: int64\n"
     ]
    },
    {
     "data": {
      "image/png": "[encoded data removed]",
      "text/plain": [
       "<Figure size 640x480 with 1 Axes>"
      ]
     },
     "metadata": {},
     "output_type": "display_data"
    }
   ],
   "source": [
    "df = pd.DataFrame({\n",
    "    'Message': [f'Message {i}' for i in range(1000)],  # Use strings for the 'Message' column\n",
    "    'Email_type': [0] * 900 + [1] * 100  # Example with imbalance\n",
    "})\n",
    "\n",
    "# Separate majority and minority classes\n",
    "class_0 = df[df['Email_type'] == 0]\n",
    "class_1 = df[df['Email_type'] == 1]\n",
    "\n",
    "# Count the number of instances in the minority class\n",
    "class_count_1 = class_1.shape[0]\n",
    "\n",
    "# Under-sample the majority class\n",
    "class_0_under = class_0.sample(class_count_1, random_state=1)\n",
    "\n",
    "# Concatenate the minority class with the under-sampled majority class\n",
    "test_under = pd.concat([class_0_under, class_1], axis=0)\n",
    "\n",
    "# Shuffle the resulting DataFrame\n",
    "test_under = test_under.sample(frac=1, random_state=1).reset_index(drop=True)\n",
    "\n",
    "# Print the count of each class\n",
    "print(\"Total class of 1 and 0:\\n\", test_under['Email_type'].value_counts())\n",
    "\n",
    "# Plot the count after under-sampling\n",
    "test_under['Email_type'].value_counts().plot(kind='bar', title='Count (target)')\n",
    "plt.xlabel('Email_type')\n",
    "plt.ylabel('Count')\n",
    "plt.show()\n"
   ]
  },
  {
   "cell_type": "code",
   "execution_count": 32,
   "id": "18d6ffeb-d442-4811-bb97-d32c116193dc",
   "metadata": {},
   "outputs": [],
   "source": [
    "# Now we can say the machine can perform unbiasly."
   ]
  },
  {
   "cell_type": "markdown",
   "id": "4153cab9-a9ab-4c7c-b1ac-cf91900fd7c1",
   "metadata": {},
   "source": [
    "# MODEL BUILDING AND TRAINING"
   ]
  },
  {
   "cell_type": "code",
   "execution_count": 34,
   "id": "bee6fdcc-3c30-4258-bc46-70e947105ef5",
   "metadata": {},
   "outputs": [],
   "source": [
    "x=df['Message']\n",
    "y=df['Email_type']"
   ]
  },
  {
   "cell_type": "code",
   "execution_count": 35,
   "id": "573a344f-6a5a-4d64-9b9b-ed8fdc991395",
   "metadata": {},
   "outputs": [
    {
     "name": "stdout",
     "output_type": "stream",
     "text": [
      "0        Message 0\n",
      "1        Message 1\n",
      "2        Message 2\n",
      "3        Message 3\n",
      "4        Message 4\n",
      "          ...     \n",
      "995    Message 995\n",
      "996    Message 996\n",
      "997    Message 997\n",
      "998    Message 998\n",
      "999    Message 999\n",
      "Name: Message, Length: 1000, dtype: object\n"
     ]
    }
   ],
   "source": [
    "print(x)"
   ]
  },
  {
   "cell_type": "code",
   "execution_count": 36,
   "id": "4af66ae1-9966-4d84-92bb-a1232fb17e2f",
   "metadata": {},
   "outputs": [
    {
     "name": "stdout",
     "output_type": "stream",
     "text": [
      "0      0\n",
      "1      0\n",
      "2      0\n",
      "3      0\n",
      "4      0\n",
      "      ..\n",
      "995    1\n",
      "996    1\n",
      "997    1\n",
      "998    1\n",
      "999    1\n",
      "Name: Email_type, Length: 1000, dtype: int64\n"
     ]
    }
   ],
   "source": [
    "print(y)"
   ]
  },
  {
   "cell_type": "code",
   "execution_count": 37,
   "id": "881a2aba-b74d-470e-b4bd-83255d9857bd",
   "metadata": {},
   "outputs": [],
   "source": [
    "#Splitting the data into training data and test data\n",
    "x_train, x_test, y_train, y_test = train_test_split(x, y, test_size=0.2, random_state=3)"
   ]
  },
  {
   "cell_type": "code",
   "execution_count": 38,
   "id": "e1b521ca-9548-48f3-ab20-99291c57ca03",
   "metadata": {},
   "outputs": [
    {
     "name": "stdout",
     "output_type": "stream",
     "text": [
      "(1000,)\n",
      "(800,)\n",
      "(200,)\n"
     ]
    }
   ],
   "source": [
    "print(x.shape)\n",
    "print(x_train.shape)\n",
    "print(x_test.shape)"
   ]
  },
  {
   "cell_type": "code",
   "execution_count": 39,
   "id": "81a77f14-046f-4113-add1-c44b1287ea4e",
   "metadata": {},
   "outputs": [],
   "source": [
    "feature_extraction = TfidfVectorizer(min_df = 1, stop_words = 'english', lowercase=True)\n"
   ]
  },
  {
   "cell_type": "code",
   "execution_count": 40,
   "id": "2a904cee-bf77-443d-9c40-9c06238d20d4",
   "metadata": {},
   "outputs": [],
   "source": [
    "x_train_features = feature_extraction.fit_transform(x_train)\n",
    "x_test_features = feature_extraction.transform(x_test)\n"
   ]
  },
  {
   "cell_type": "code",
   "execution_count": 41,
   "id": "599b2878-2ae2-4434-acc5-7d6d8d03d4d1",
   "metadata": {},
   "outputs": [],
   "source": [
    "#convert y_train and y_test value as integers\n",
    "y_train = y_train.astype('int')\n",
    "y_test = y_test.astype('int')"
   ]
  },
  {
   "cell_type": "code",
   "execution_count": 42,
   "id": "3521cc03-d0fb-47e9-837a-2ba1e1485fd9",
   "metadata": {},
   "outputs": [
    {
     "name": "stdout",
     "output_type": "stream",
     "text": [
      "78      Message 78\n",
      "109    Message 109\n",
      "201    Message 201\n",
      "465    Message 465\n",
      "143    Message 143\n",
      "          ...     \n",
      "952    Message 952\n",
      "643    Message 643\n",
      "249    Message 249\n",
      "664    Message 664\n",
      "874    Message 874\n",
      "Name: Message, Length: 800, dtype: object\n"
     ]
    }
   ],
   "source": [
    "print(x_train)"
   ]
  },
  {
   "cell_type": "code",
   "execution_count": 43,
   "id": "cbdf70d9-eb11-4b96-9341-507679d80457",
   "metadata": {},
   "outputs": [
    {
     "name": "stdout",
     "output_type": "stream",
     "text": [
      "  (0, 603)\t0.9899288535046231\n",
      "  (0, 792)\t0.14156576210024283\n",
      "  (1, 6)\t0.9899288535046231\n",
      "  (1, 792)\t0.14156576210024283\n",
      "  (2, 87)\t0.9899288535046231\n",
      "  (2, 792)\t0.14156576210024283\n",
      "  (3, 325)\t0.9899288535046231\n",
      "  (3, 792)\t0.14156576210024283\n",
      "  (4, 38)\t0.9899288535046231\n",
      "  (4, 792)\t0.14156576210024283\n",
      "  (5, 704)\t0.9899288535046231\n",
      "  (5, 792)\t0.14156576210024283\n",
      "  (6, 92)\t0.9899288535046231\n",
      "  (6, 792)\t0.14156576210024283\n",
      "  (7, 146)\t0.9899288535046231\n",
      "  (7, 792)\t0.14156576210024283\n",
      "  (8, 204)\t0.9899288535046231\n",
      "  (8, 792)\t0.14156576210024283\n",
      "  (9, 1)\t0.9899288535046231\n",
      "  (9, 792)\t0.14156576210024283\n",
      "  (10, 595)\t0.9899288535046231\n",
      "  (10, 792)\t0.14156576210024283\n",
      "  (11, 320)\t0.9899288535046231\n",
      "  (11, 792)\t0.14156576210024283\n",
      "  (12, 792)\t1.0\n",
      "  :\t:\n",
      "  (787, 792)\t0.14156576210024283\n",
      "  (788, 515)\t0.9899288535046231\n",
      "  (788, 792)\t0.14156576210024283\n",
      "  (789, 679)\t0.9899288535046231\n",
      "  (789, 792)\t0.14156576210024283\n",
      "  (790, 543)\t0.9899288535046231\n",
      "  (790, 792)\t0.14156576210024283\n",
      "  (791, 495)\t0.9899288535046231\n",
      "  (791, 792)\t0.14156576210024283\n",
      "  (792, 611)\t0.9899288535046231\n",
      "  (792, 792)\t0.14156576210024283\n",
      "  (793, 138)\t0.9899288535046231\n",
      "  (793, 792)\t0.14156576210024283\n",
      "  (794, 763)\t0.9899288535046231\n",
      "  (794, 792)\t0.14156576210024283\n",
      "  (795, 747)\t0.9899288535046231\n",
      "  (795, 792)\t0.14156576210024283\n",
      "  (796, 482)\t0.9899288535046231\n",
      "  (796, 792)\t0.14156576210024283\n",
      "  (797, 131)\t0.9899288535046231\n",
      "  (797, 792)\t0.14156576210024283\n",
      "  (798, 500)\t0.9899288535046231\n",
      "  (798, 792)\t0.14156576210024283\n",
      "  (799, 678)\t0.9899288535046231\n",
      "  (799, 792)\t0.14156576210024283\n"
     ]
    }
   ],
   "source": [
    "print(x_train_features)"
   ]
  },
  {
   "cell_type": "raw",
   "id": "b3c68f50-19f0-472e-a714-838e8ab4987e",
   "metadata": {},
   "source": [
    "Training the Logistic Regression model"
   ]
  },
  {
   "cell_type": "code",
   "execution_count": 44,
   "id": "6f5296e7-7089-4a77-9030-fd3e1983e5be",
   "metadata": {},
   "outputs": [
    {
     "data": {
      "text/html": [
       "<style>#sk-container-id-1 {color: black;background-color: white;}#sk-container-id-1 pre{padding: 0;}#sk-container-id-1 div.sk-toggleable {background-color: white;}#sk-container-id-1 label.sk-toggleable__label {cursor: pointer;display: block;width: 100%;margin-bottom: 0;padding: 0.3em;box-sizing: border-box;text-align: center;}#sk-container-id-1 label.sk-toggleable__label-arrow:before {content: \"▸\";float: left;margin-right: 0.25em;color: #696969;}#sk-container-id-1 label.sk-toggleable__label-arrow:hover:before {color: black;}#sk-container-id-1 div.sk-estimator:hover label.sk-toggleable__label-arrow:before {color: black;}#sk-container-id-1 div.sk-toggleable__content {max-height: 0;max-width: 0;overflow: hidden;text-align: left;background-color: #f0f8ff;}#sk-container-id-1 div.sk-toggleable__content pre {margin: 0.2em;color: black;border-radius: 0.25em;background-color: #f0f8ff;}#sk-container-id-1 input.sk-toggleable__control:checked~div.sk-toggleable__content {max-height: 200px;max-width: 100%;overflow: auto;}#sk-container-id-1 input.sk-toggleable__control:checked~label.sk-toggleable__label-arrow:before {content: \"▾\";}#sk-container-id-1 div.sk-estimator input.sk-toggleable__control:checked~label.sk-toggleable__label {background-color: #d4ebff;}#sk-container-id-1 div.sk-label input.sk-toggleable__control:checked~label.sk-toggleable__label {background-color: #d4ebff;}#sk-container-id-1 input.sk-hidden--visually {border: 0;clip: rect(1px 1px 1px 1px);clip: rect(1px, 1px, 1px, 1px);height: 1px;margin: -1px;overflow: hidden;padding: 0;position: absolute;width: 1px;}#sk-container-id-1 div.sk-estimator {font-family: monospace;background-color: #f0f8ff;border: 1px dotted black;border-radius: 0.25em;box-sizing: border-box;margin-bottom: 0.5em;}#sk-container-id-1 div.sk-estimator:hover {background-color: #d4ebff;}#sk-container-id-1 div.sk-parallel-item::after {content: \"\";width: 100%;border-bottom: 1px solid gray;flex-grow: 1;}#sk-container-id-1 div.sk-label:hover label.sk-toggleable__label {background-color: #d4ebff;}#sk-container-id-1 div.sk-serial::before {content: \"\";position: absolute;border-left: 1px solid gray;box-sizing: border-box;top: 0;bottom: 0;left: 50%;z-index: 0;}#sk-container-id-1 div.sk-serial {display: flex;flex-direction: column;align-items: center;background-color: white;padding-right: 0.2em;padding-left: 0.2em;position: relative;}#sk-container-id-1 div.sk-item {position: relative;z-index: 1;}#sk-container-id-1 div.sk-parallel {display: flex;align-items: stretch;justify-content: center;background-color: white;position: relative;}#sk-container-id-1 div.sk-item::before, #sk-container-id-1 div.sk-parallel-item::before {content: \"\";position: absolute;border-left: 1px solid gray;box-sizing: border-box;top: 0;bottom: 0;left: 50%;z-index: -1;}#sk-container-id-1 div.sk-parallel-item {display: flex;flex-direction: column;z-index: 1;position: relative;background-color: white;}#sk-container-id-1 div.sk-parallel-item:first-child::after {align-self: flex-end;width: 50%;}#sk-container-id-1 div.sk-parallel-item:last-child::after {align-self: flex-start;width: 50%;}#sk-container-id-1 div.sk-parallel-item:only-child::after {width: 0;}#sk-container-id-1 div.sk-dashed-wrapped {border: 1px dashed gray;margin: 0 0.4em 0.5em 0.4em;box-sizing: border-box;padding-bottom: 0.4em;background-color: white;}#sk-container-id-1 div.sk-label label {font-family: monospace;font-weight: bold;display: inline-block;line-height: 1.2em;}#sk-container-id-1 div.sk-label-container {text-align: center;}#sk-container-id-1 div.sk-container {/* jupyter's `normalize.less` sets `[hidden] { display: none; }` but bootstrap.min.css set `[hidden] { display: none !important; }` so we also need the `!important` here to be able to override the default hidden behavior on the sphinx rendered scikit-learn.org. See: https://github.com/scikit-learn/scikit-learn/issues/21755 */display: inline-block !important;position: relative;}#sk-container-id-1 div.sk-text-repr-fallback {display: none;}</style><div id=\"sk-container-id-1\" class=\"sk-top-container\"><div class=\"sk-text-repr-fallback\"><pre>LogisticRegression()</pre><b>In a Jupyter environment, please rerun this cell to show the HTML representation or trust the notebook. <br />On GitHub, the HTML representation is unable to render, please try loading this page with nbviewer.org.</b></div><div class=\"sk-container\" hidden><div class=\"sk-item\"><div class=\"sk-estimator sk-toggleable\"><input class=\"sk-toggleable__control sk-hidden--visually\" id=\"sk-estimator-id-1\" type=\"checkbox\" checked><label for=\"sk-estimator-id-1\" class=\"sk-toggleable__label sk-toggleable__label-arrow\">LogisticRegression</label><div class=\"sk-toggleable__content\"><pre>LogisticRegression()</pre></div></div></div></div></div>"
      ],
      "text/plain": [
       "LogisticRegression()"
      ]
     },
     "execution_count": 44,
     "metadata": {},
     "output_type": "execute_result"
    }
   ],
   "source": [
    "model = LogisticRegression()\n",
    "model.fit(x_train_features, y_train)"
   ]
  },
  {
   "cell_type": "code",
   "execution_count": 45,
   "id": "da3edee2-26e0-4e22-a8b9-71dcebd48023",
   "metadata": {},
   "outputs": [],
   "source": [
    "#Prediction on training data\n",
    "\n",
    "prediction_on_training_data = model.predict(x_train_features)\n",
    "accuracy_on_training_data = accuracy_score(y_train,prediction_on_training_data) "
   ]
  },
  {
   "cell_type": "code",
   "execution_count": 46,
   "id": "c9aa955e-49cd-4415-a545-fd218c14441d",
   "metadata": {},
   "outputs": [
    {
     "name": "stdout",
     "output_type": "stream",
     "text": [
      "Accuracy on training data :  0.89\n"
     ]
    }
   ],
   "source": [
    "print('Accuracy on training data : ',accuracy_on_training_data)"
   ]
  },
  {
   "cell_type": "markdown",
   "id": "900133ee-1422-4863-86ec-28cb8e4a4e98",
   "metadata": {},
   "source": [
    "#MODEL TESTING "
   ]
  },
  {
   "cell_type": "code",
   "execution_count": 48,
   "id": "c974a469-bb34-43f5-bb04-716cb1faca44",
   "metadata": {},
   "outputs": [],
   "source": [
    "#Prediction on testing data\n",
    "\n",
    "prediction_on_testing_data = model.predict(x_test_features)\n",
    "accuracy_on_testing_data = accuracy_score(y_test,prediction_on_testing_data) "
   ]
  },
  {
   "cell_type": "code",
   "execution_count": 49,
   "id": "5e6cf107-3d02-486b-9671-92914cb04ef6",
   "metadata": {},
   "outputs": [
    {
     "name": "stdout",
     "output_type": "stream",
     "text": [
      "Accuracy on testing data :  0.94\n"
     ]
    }
   ],
   "source": [
    "print('Accuracy on testing data : ',accuracy_on_testing_data)"
   ]
  },
  {
   "cell_type": "code",
   "execution_count": null,
   "id": "4cd7c6dc-e88a-443d-8320-c52a5937c4fc",
   "metadata": {},
   "outputs": [],
   "source": [
    "# Here we can see that our model is performing well on both training and testing data.\n",
    "# Now we will build a predictive system to see if our model predicts correctly or not."
   ]
  },
  {
   "cell_type": "markdown",
   "id": "8047e785-ba6a-45a1-9cab-4d2ab6245cc1",
   "metadata": {},
   "source": [
    "#BUILDING A PREDICTIVE SYSTEM "
   ]
  },
  {
   "cell_type": "code",
   "execution_count": 51,
   "id": "c7bc479e-6ea1-4f3b-afb6-c7c84f2849e1",
   "metadata": {},
   "outputs": [
    {
     "name": "stdout",
     "output_type": "stream",
     "text": [
      "[0]\n",
      "spam mail\n"
     ]
    }
   ],
   "source": [
    "input_mail=[\"England v Macedonia - dont miss the goals/team news. Txt ur national team to 87077 eg ENGLAND to 87077 Try:WALES, SCOTLAND 4txt/Ì¼1.20 POBOXox36504W45WQ 16+\"]\n",
    "\n",
    "#Convert text to feature vectors\n",
    "input_data_features = feature_extraction.transform(input_mail)\n",
    "\n",
    "#making prediction\n",
    "prediction = model.predict(input_data_features)\n",
    "print(prediction)\n",
    "\n",
    "\n",
    "if prediction[0]==1:\n",
    "    print('ham mail')\n",
    "else:\n",
    "    print('spam mail')"
   ]
  },
  {
   "cell_type": "code",
   "execution_count": null,
   "id": "96594097-f366-4ecc-a369-04f39ce4ac5a",
   "metadata": {},
   "outputs": [],
   "source": [
    "# We can conclude that our model is predicting correctly"
   ]
  },
  {
   "cell_type": "markdown",
   "id": "35d9f767-f756-4cef-896e-b08a75d20058",
   "metadata": {},
   "source": [
    "#CONCLUSIONS"
   ]
  },
  {
   "cell_type": "raw",
   "id": "6f466a6e-27b8-4d3e-b81f-65a0607307ea",
   "metadata": {},
   "source": [
    "Model Performance:\n",
    "-The accuracy on the training data is 0.89 (89%), which indicates that the model performs well in learning patterns from the training dataset.\n",
    "-The accuracy on the testing data is 0.94 (94%), which demonstrates that the model generalizes well to unseen data without overfitting."
   ]
  },
  {
   "cell_type": "raw",
   "id": "d6e9969d-9650-4f95-8416-74e9d25fca28",
   "metadata": {},
   "source": [
    "Balanced Accuracy:\n",
    "Since the training and testing accuracies are close, it suggests that the model is well-trained and neither underfitting nor overfitting."
   ]
  }
 ],
 "metadata": {
  "kernelspec": {
   "display_name": "Python 3 (ipykernel)",
   "language": "python",
   "name": "python3"
  },
  "language_info": {
   "codemirror_mode": {
    "name": "ipython",
    "version": 3
   },
   "file_extension": ".py",
   "mimetype": "text/x-python",
   "name": "python",
   "nbconvert_exporter": "python",
   "pygments_lexer": "ipython3",
   "version": "3.11.7"
  }
 },
 "nbformat": 4,
 "nbformat_minor": 5
}
